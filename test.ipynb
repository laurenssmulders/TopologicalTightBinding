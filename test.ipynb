{
 "cells": [
  {
   "cell_type": "code",
   "execution_count": 2,
   "metadata": {},
   "outputs": [],
   "source": [
    "import numpy as np\n",
    "import scipy.linalg as la"
   ]
  },
  {
   "cell_type": "code",
   "execution_count": 42,
   "metadata": {},
   "outputs": [],
   "source": [
    "def H(a):\n",
    "    l_0 = np.array([[1,0,0],\n",
    "                    [0,1,0],\n",
    "                    [0,0,1]])\n",
    "    \n",
    "    l_1 = np.array([[0,1,0],\n",
    "                    [1,0,0],\n",
    "                    [0,0,0]])\n",
    "    \n",
    "    l_2 = np.array([[0,-1j,0],\n",
    "                    [1j,0,0],\n",
    "                    [0,0,1]])\n",
    "    \n",
    "    l_3 = np.array([[1,0,0],\n",
    "                    [0,-1,0],\n",
    "                    [0,0,0]])\n",
    "    \n",
    "    l_4 = np.array([[0,0,1],\n",
    "                    [0,0,0],\n",
    "                    [1,0,0]])\n",
    "    \n",
    "    l_5 = np.array([[0,0,-1j],\n",
    "                    [0,1,0],\n",
    "                    [1j,0,0]])\n",
    "    \n",
    "    l_6 = np.array([[0,0,0],\n",
    "                    [0,0,1],\n",
    "                    [0,1,0]])\n",
    "    \n",
    "    l_7 = np.array([[0,0,0],\n",
    "                    [0,0,-1j],\n",
    "                    [0,1j,0]])\n",
    "    \n",
    "    l_8 = np.array([[1,0,0],\n",
    "                    [0,1,0],\n",
    "                    [0,0,-2]]) / 3**0.5\n",
    "    \n",
    "    H = a[0]*l_0 + a[1]*l_1 + a[2]*l_2 + a[3]*l_3 + a[4]*l_4 + a[5]*l_5 + a[6]*l_6 + a[7]*l_7 + a[8]*l_8\n",
    "\n",
    "    return H"
   ]
  },
  {
   "cell_type": "code",
   "execution_count": 49,
   "metadata": {},
   "outputs": [],
   "source": [
    "def U(a):\n",
    "    herm = H(a)\n",
    "    U = la.expm(1j*herm)\n",
    "    return U, herm"
   ]
  },
  {
   "cell_type": "code",
   "execution_count": 50,
   "metadata": {},
   "outputs": [],
   "source": [
    "def coefficients(H):\n",
    "    a = np.zeros(9)\n",
    "    a[0] = np.real(1 / 3 * (H[0,0] + H[1,1] + H[2,2]))\n",
    "    a[1] = np.real(H[0,1])\n",
    "    a[2] = -np.imag(H[0,1])\n",
    "    a[3] = np.real(1 / 2 * (H[0,0] - H[1,1]))\n",
    "    a[4] = np.real(H[0,2])\n",
    "    a[5] = -np.imag(H[0,2])\n",
    "    a[6] = np.real(H[1,2])\n",
    "    a[7] = -np.imag(H[1,2])\n",
    "    a[8] = np.real(1 / (2*3**0.5) * (H[0,0] + H[1,1] - 2*H[2,2]))\n",
    "    return a"
   ]
  }
 ],
 "metadata": {
  "kernelspec": {
   "display_name": "PartIIIProjectPy310",
   "language": "python",
   "name": "python3"
  },
  "language_info": {
   "codemirror_mode": {
    "name": "ipython",
    "version": 3
   },
   "file_extension": ".py",
   "mimetype": "text/x-python",
   "name": "python",
   "nbconvert_exporter": "python",
   "pygments_lexer": "ipython3",
   "version": "3.11.8"
  }
 },
 "nbformat": 4,
 "nbformat_minor": 2
}
