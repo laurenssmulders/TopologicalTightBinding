{
 "cells": [
  {
   "cell_type": "code",
   "execution_count": 1,
   "metadata": {},
   "outputs": [],
   "source": [
    "import numpy as np"
   ]
  },
  {
   "cell_type": "code",
<<<<<<< HEAD
   "execution_count": 122,
=======
   "execution_count": 2,
   "metadata": {},
   "outputs": [],
   "source": [
    "a = np.transpose(np.array([[1,0]]))\n",
    "b = np.linspace(0,1,11)"
   ]
  },
  {
   "cell_type": "code",
   "execution_count": 3,
>>>>>>> 007705607d9eb77af124af641d9ea90e5d706631
   "metadata": {},
   "outputs": [
    {
     "data": {
      "text/plain": [
<<<<<<< HEAD
       "array([1.+0.j, 0.+2.j, 3.+0.j, 0.+4.j, 5.+0.j])"
      ]
     },
     "execution_count": 122,
=======
       "array([[1],\n",
       "       [0]])"
      ]
     },
     "execution_count": 3,
>>>>>>> 007705607d9eb77af124af641d9ea90e5d706631
     "metadata": {},
     "output_type": "execute_result"
    }
   ],
   "source": [
<<<<<<< HEAD
    "a = np.array([1,2j,3,4j,5])\n",
=======
>>>>>>> 007705607d9eb77af124af641d9ea90e5d706631
    "a"
   ]
  },
  {
   "cell_type": "code",
<<<<<<< HEAD
   "execution_count": 123,
=======
   "execution_count": 4,
>>>>>>> 007705607d9eb77af124af641d9ea90e5d706631
   "metadata": {},
   "outputs": [
    {
     "data": {
      "text/plain": [
<<<<<<< HEAD
       "(-120+0j)"
      ]
     },
     "execution_count": 123,
=======
       "array([0. , 0.1, 0.2, 0.3, 0.4, 0.5, 0.6, 0.7, 0.8, 0.9, 1. ])"
      ]
     },
     "execution_count": 4,
>>>>>>> 007705607d9eb77af124af641d9ea90e5d706631
     "metadata": {},
     "output_type": "execute_result"
    }
   ],
   "source": [
<<<<<<< HEAD
    "np.prod(a)"
=======
    "b"
   ]
  },
  {
   "cell_type": "code",
   "execution_count": 5,
   "metadata": {},
   "outputs": [],
   "source": [
    "c = np.transpose(np.array([[0,3]])) + b * a"
   ]
  },
  {
   "cell_type": "code",
   "execution_count": 12,
   "metadata": {},
   "outputs": [
    {
     "data": {
      "text/plain": [
       "array([[1],\n",
       "       [2],\n",
       "       [3]])"
      ]
     },
     "execution_count": 12,
     "metadata": {},
     "output_type": "execute_result"
    }
   ],
   "source": [
    "np.transpose([np.array([1,2,3])])"
   ]
  },
  {
   "cell_type": "code",
   "execution_count": 9,
   "metadata": {},
   "outputs": [],
   "source": [
    "d =np.transpose(np.array([[0,1]]))\n",
    "e = c + d"
   ]
  },
  {
   "cell_type": "code",
   "execution_count": 10,
   "metadata": {},
   "outputs": [
    {
     "data": {
      "text/plain": [
       "array([[0. , 0.1, 0.2, 0.3, 0.4, 0.5, 0.6, 0.7, 0.8, 0.9, 1. ],\n",
       "       [4. , 4. , 4. , 4. , 4. , 4. , 4. , 4. , 4. , 4. , 4. ]])"
      ]
     },
     "execution_count": 10,
     "metadata": {},
     "output_type": "execute_result"
    }
   ],
   "source": [
    "e"
>>>>>>> 007705607d9eb77af124af641d9ea90e5d706631
   ]
  },
  {
   "cell_type": "code",
   "execution_count": null,
   "metadata": {},
   "outputs": [],
   "source": []
  }
 ],
 "metadata": {
  "kernelspec": {
   "display_name": "PartIIIProjectPy310",
   "language": "python",
   "name": "python3"
  },
  "language_info": {
   "codemirror_mode": {
    "name": "ipython",
    "version": 3
   },
   "file_extension": ".py",
   "mimetype": "text/x-python",
   "name": "python",
   "nbconvert_exporter": "python",
   "pygments_lexer": "ipython3",
   "version": "0.0.0"
  }
 },
 "nbformat": 4,
 "nbformat_minor": 2
}
