{
 "cells": [
  {
   "cell_type": "code",
   "execution_count": 29,
   "metadata": {},
   "outputs": [],
   "source": [
    "from tight_binding.utilitities import compute_reciprocal_lattice_vectors_2D\n",
    "from tight_binding.hamiltonians import kagome_hamiltonian_driven, kagome_hamiltonian_static, square_hamiltonian_driven, square_hamiltonian_static\n",
    "from tight_binding.diagonalise import compute_time_evolution, compute_eigenstates\n",
    "from tight_binding.bandstructure import compute_bandstructure2D, plot_bandstructure2D\n",
    "from tight_binding.topology import compute_zak_phase, locate_dirac_strings\n",
    "import numpy as np\n",
    "import matplotlib.pyplot as plt"
   ]
  },
  {
   "cell_type": "code",
   "execution_count": 30,
   "metadata": {},
   "outputs": [],
   "source": [
    "a_1 = np.array([1,0])\n",
    "a_2 = np.array([0.5, 0.5*3**0.5])\n",
    "a_3 = a_2 - a_1\n",
    "r_a = a_3 / 2\n",
    "r_b = a_2 / 2\n",
    "r_c = a_1 / 2\n",
    "offsets = np.array([r_a, r_b, r_c])\n",
    "\n",
    "H = kagome_hamiltonian_driven(0,0,0,1,1,2,0,6,0)"
   ]
  },
  {
   "cell_type": "code",
   "execution_count": 31,
   "metadata": {},
   "outputs": [
    {
     "name": "stdout",
     "output_type": "stream",
     "text": [
      "[0. 0. 1.]\n"
     ]
    }
   ],
   "source": [
    "start = np.array([0.49,0])\n",
    "end = np.array([0.49,1])\n",
    "\n",
    "zak_phase, energies = compute_zak_phase(H,a_1,a_2,offsets, start, end, 100, 6, 100)\n",
    "zak_phase = np.rint(np.real(zak_phase)/np.pi) % 2\n",
    "print(zak_phase)"
   ]
  },
  {
   "cell_type": "code",
   "execution_count": 32,
   "metadata": {},
   "outputs": [],
   "source": [
    "b_1, b_2 = compute_reciprocal_lattice_vectors_2D(a_1, a_2)\n",
    "dim = 3\n",
    "num_points = 100\n",
    "\n",
    "x = np.linspace(0,1,100) # array what fraction of the path we're on\n",
    "d = end - start\n",
    "alpha_1 = start[0] + x * d[0]\n",
    "alpha_2 = start[1] + x * d[1]\n",
    "kx = alpha_1 * b_1[0] + alpha_2 * b_2[0]\n",
    "ky = alpha_1 * b_1[1] + alpha_2 * b_2[1]\n",
    "\n",
    "dk = np.array([kx[-1] - kx[0], ky[-1] - ky[0]])\n",
    "diagonal = np.zeros((dim,), dtype='complex')\n",
    "for i in range(dim):\n",
    "    diagonal[i] = np.exp(1j*np.vdot(dk,offsets[i]))\n",
    "offset_matrix = np.diag(diagonal)"
   ]
  },
  {
   "cell_type": "code",
   "execution_count": 33,
   "metadata": {},
   "outputs": [
    {
     "name": "stdout",
     "output_type": "stream",
     "text": [
      "[-1.77752338 -1.70423855 -1.63095373 -1.55766891 -1.48438409 -1.41109926\n",
      " -1.33781444 -1.26452962 -1.19124479 -1.11795997 -1.04467515 -0.97139033\n",
      " -0.8981055  -0.82482068 -0.75153586 -0.67825103 -0.60496621 -0.53168139\n",
      " -0.45839657 -0.38511174 -0.31182692 -0.2385421  -0.16525728 -0.09197245\n",
      " -0.01868763  0.05459719  0.12788202  0.20116684  0.27445166  0.34773648\n",
      "  0.42102131  0.49430613  0.56759095  0.64087578  0.7141606   0.78744542\n",
      "  0.86073024  0.93401507  1.00729989  1.08058471  1.15386953  1.22715436\n",
      "  1.30043918  1.373724    1.44700883  1.52029365  1.59357847  1.66686329\n",
      "  1.74014812  1.81343294  1.88671776  1.96000259  2.03328741  2.10657223\n",
      "  2.17985705  2.25314188  2.3264267   2.39971152  2.47299635  2.54628117\n",
      "  2.61956599  2.69285081  2.76613564  2.83942046  2.91270528  2.9859901\n",
      "  3.05927493  3.13255975  3.20584457  3.2791294   3.35241422  3.42569904\n",
      "  3.49898386  3.57226869  3.64555351  3.71883833  3.79212316  3.86540798\n",
      "  3.9386928   4.01197762  4.08526245  4.15854727  4.23183209  4.30511692\n",
      "  4.37840174  4.45168656  4.52497138  4.59825621  4.67154103  4.74482585\n",
      "  4.81811067  4.8913955   4.96468032  5.03796514  5.11124997  5.18453479\n",
      "  5.25781961  5.33110443  5.40438926  5.47767408]\n"
     ]
    }
   ],
   "source": [
    "print(ky)"
   ]
  },
  {
   "cell_type": "code",
   "execution_count": 34,
   "metadata": {},
   "outputs": [
    {
     "name": "stdout",
     "output_type": "stream",
     "text": [
      "[[-1.+1.2246468e-16j  0.+0.0000000e+00j  0.+0.0000000e+00j]\n",
      " [ 0.+0.0000000e+00j -1.+1.2246468e-16j  0.+0.0000000e+00j]\n",
      " [ 0.+0.0000000e+00j  0.+0.0000000e+00j  1.+0.0000000e+00j]]\n"
     ]
    }
   ],
   "source": [
    "print(offset_matrix)"
   ]
  },
  {
   "cell_type": "code",
   "execution_count": 35,
   "metadata": {},
   "outputs": [],
   "source": [
    "blochvectors = np.zeros((num_points,dim,dim), dtype='complex')\n",
    "energies = np.zeros((num_points,dim), dtype='float')\n",
    "for i in range(num_points):\n",
    "    k = np.array([kx[i],ky[i]])\n",
    "    eigenenergies, eigenvectors = compute_eigenstates(H, k, 6, 100)\n",
    "    energies[i] = eigenenergies\n",
    "    blochvectors[i] = eigenvectors"
   ]
  },
  {
   "cell_type": "code",
   "execution_count": 36,
   "metadata": {},
   "outputs": [],
   "source": [
    "# Sorting the energies and blochvectors\n",
    "for i in range(energies.shape[0]):\n",
    "    if i == 0:\n",
    "        ind = np.argsort(energies[i])\n",
    "        energies[i] = energies[i,ind]\n",
    "        blochvectors[i] = blochvectors[i][:,ind]\n",
    "    else:\n",
    "        ind = np.argsort(energies[i])\n",
    "        differences = np.zeros((3,), dtype='float')\n",
    "        for shift in range(3):\n",
    "            ind_roll = np.roll(ind,shift)\n",
    "            diff = ((energies[i,ind_roll] - energies[i-1])\n",
    "                    % (2*np.pi))\n",
    "            diff = (diff + 2*np.pi*np.floor((-np.pi-diff) \n",
    "                                            / (2*np.pi) + 1))\n",
    "            diff = np.abs(diff)\n",
    "            diff = np.sum(diff)\n",
    "            differences[shift] = diff\n",
    "        minimum = np.argmin(differences)\n",
    "        ind = np.roll(ind, minimum)\n",
    "        energies[i] = energies[i,ind]\n",
    "        blochvectors[i] = blochvectors[i][:,ind]\n",
    "\n",
    "\n"
   ]
  },
  {
   "cell_type": "code",
   "execution_count": 37,
   "metadata": {},
   "outputs": [
    {
     "name": "stdout",
     "output_type": "stream",
     "text": [
      "[[ 0.70371595+0.j -0.0851781 +0.j -0.70529322+0.j]\n",
      " [ 0.15036811+0.j  0.98809382+0.j  0.03070842+0.j]\n",
      " [ 0.69430886+0.j -0.12766254+0.j  0.70824382+0.j]] [[ 0.70371595+0.j -0.0851781 +0.j  0.70529322+0.j]\n",
      " [ 0.15036811+0.j  0.98809382+0.j -0.03070842+0.j]\n",
      " [-0.69430886+0.j  0.12766254+0.j  0.70824382+0.j]]\n"
     ]
    }
   ],
   "source": [
    "print(blochvectors[0], blochvectors[-1])"
   ]
  },
  {
   "cell_type": "code",
   "execution_count": 38,
   "metadata": {},
   "outputs": [],
   "source": [
    "# dealing with offsets\n",
    "for i in range(blochvectors.shape[0]):\n",
    "    k = np.array([kx[i],ky[i]])\n",
    "    diagonal = np.array([\n",
    "        np.exp(1j*np.vdot(k,a_1/2)),\n",
    "        1,\n",
    "        np.exp(1j*np.vdot(k,a_3/2))\n",
    "    ])\n",
    "    offset_matrix = np.diag(diagonal)\n",
    "    blochvectors[i] = np.matmul(offset_matrix, blochvectors[i])"
   ]
  },
  {
   "cell_type": "code",
   "execution_count": 39,
   "metadata": {},
   "outputs": [
    {
     "name": "stdout",
     "output_type": "stream",
     "text": [
      "[[ 9.99891506e-01-1.63768738e-16j -6.16972618e-07+3.00324002e-17j\n",
      "  -3.14399329e-05+1.59594560e-16j]\n",
      " [-6.16972618e-07+3.03576608e-17j  9.99882434e-01-5.52943108e-18j\n",
      "  -2.12782437e-06-3.03576608e-17j]\n",
      " [ 3.14399329e-05-1.70002901e-16j  2.12782437e-06+3.03576608e-17j\n",
      "  -9.99990844e-01+1.67726076e-16j]]\n"
     ]
    }
   ],
   "source": [
    "print(np.matmul(np.conjugate(np.transpose(blochvectors[0])), blochvectors[-1]))"
   ]
  },
  {
   "cell_type": "code",
   "execution_count": 40,
   "metadata": {},
   "outputs": [],
   "source": [
    "# Calculating the Zak phases from the blochvectors\n",
    "overlaps = np.ones((num_points - 1, dim), dtype='complex')\n",
    "for i in range(num_points - 1):\n",
    "    for band in range(dim):\n",
    "        overlaps[i, band] = np.vdot(blochvectors[i,:,band], \n",
    "                                    blochvectors[i+1,:,band])\n",
    "zak_phases = np.zeros((dim,), dtype='complex')\n",
    "for band in range(dim):\n",
    "    zak_phases[band] = 1j*np.log(np.prod(overlaps[:,band]))"
   ]
  },
  {
   "cell_type": "code",
   "execution_count": 41,
   "metadata": {},
   "outputs": [
    {
     "data": {
      "text/plain": [
       "array([ 1.61580098-0.04656461j,  3.11588888-0.05806808j,\n",
       "       -1.59088625-0.04097174j])"
      ]
     },
     "execution_count": 41,
     "metadata": {},
     "output_type": "execute_result"
    }
   ],
   "source": [
    "zak_phases"
   ]
  },
  {
   "cell_type": "code",
   "execution_count": null,
   "metadata": {},
   "outputs": [],
   "source": []
  }
 ],
 "metadata": {
  "kernelspec": {
   "display_name": "PartIIIProjectPy310",
   "language": "python",
   "name": "python3"
  },
  "language_info": {
   "codemirror_mode": {
    "name": "ipython",
    "version": 3
   },
   "file_extension": ".py",
   "mimetype": "text/x-python",
   "name": "python",
   "nbconvert_exporter": "python",
   "pygments_lexer": "ipython3",
   "version": "3.11.5"
  }
 },
 "nbformat": 4,
 "nbformat_minor": 2
}
