{
 "cells": [
  {
   "cell_type": "code",
   "execution_count": 1,
   "metadata": {},
   "outputs": [],
   "source": [
    "from tight_binding2.utilitities import compute_reciprocal_lattice_vectors_2D\n",
    "from tight_binding2.hamiltonians import kagome_hamiltonian_driven, kagome_hamiltonian_static, square_hamiltonian_driven, square_hamiltonian_static\n",
    "from tight_binding2.diagonalise import compute_time_evolution, compute_eigenstates\n",
    "from tight_binding2.bandstructure import compute_bandstructure2D, plot_bandstructure2D\n",
    "from tight_binding2.topology import compute_zak_phase, locate_dirac_strings\n",
    "import numpy as np\n",
    "\n",
    "#KAGOME\n",
    "#a_1 = np.transpose(np.array([[1,0]]))\n",
    "#a_2 = np.transpose(np.array([[0.5, 0.5*3**0.5]]))\n",
    "#a_3 = a_2 - a_1\n",
    "#r_a = a_3 / 2\n",
    "#r_b = a_2 / 2\n",
    "#r_c = a_1 / 2\n",
    "#offsets = np.array([r_a, r_b, r_c])\n",
    "\n",
    "#SQUARE\n",
    "a_1 = np.transpose(np.array([[1,0]]))\n",
    "a_2 = np.transpose(np.array([[0,1]]))\n",
    "r = np.transpose(np.array([[0,0]]))\n",
    "offsets = np.array([r,r,r])\n",
    "\n",
    "H = square_hamiltonian_driven(0,1,-1,0,0,0,1,1,1,0,0,0,1,3,0,1,0)\n",
    "\n",
    "energies, blochvectors = compute_bandstructure2D(H,a_1,a_2,100,3,100)"
   ]
  },
  {
   "cell_type": "code",
   "execution_count": 2,
   "metadata": {},
   "outputs": [
    {
     "name": "stdout",
     "output_type": "stream",
     "text": [
      "[[[-2.0943951  0.         2.0943951]\n",
      "  [-2.0943951  0.         2.0943951]\n",
      "  [-2.0943951  0.         2.0943951]\n",
      "  ...\n",
      "  [-2.0943951  0.         2.0943951]\n",
      "  [-2.0943951  0.         2.0943951]\n",
      "  [-2.0943951  0.         2.0943951]]\n",
      "\n",
      " [[-2.0943951  0.         2.0943951]\n",
      "  [-2.0943951  0.         2.0943951]\n",
      "  [-2.0943951  0.         2.0943951]\n",
      "  ...\n",
      "  [-2.0943951  0.         2.0943951]\n",
      "  [-2.0943951  0.         2.0943951]\n",
      "  [-2.0943951  0.         2.0943951]]\n",
      "\n",
      " [[-2.0943951  0.         2.0943951]\n",
      "  [-2.0943951  0.         2.0943951]\n",
      "  [-2.0943951  0.         2.0943951]\n",
      "  ...\n",
      "  [-2.0943951  0.         2.0943951]\n",
      "  [-2.0943951  0.         2.0943951]\n",
      "  [-2.0943951  0.         2.0943951]]\n",
      "\n",
      " ...\n",
      "\n",
      " [[-2.0943951  0.         2.0943951]\n",
      "  [-2.0943951  0.         2.0943951]\n",
      "  [-2.0943951  0.         2.0943951]\n",
      "  ...\n",
      "  [-2.0943951  0.         2.0943951]\n",
      "  [-2.0943951  0.         2.0943951]\n",
      "  [-2.0943951  0.         2.0943951]]\n",
      "\n",
      " [[-2.0943951  0.         2.0943951]\n",
      "  [-2.0943951  0.         2.0943951]\n",
      "  [-2.0943951  0.         2.0943951]\n",
      "  ...\n",
      "  [-2.0943951  0.         2.0943951]\n",
      "  [-2.0943951  0.         2.0943951]\n",
      "  [-2.0943951  0.         2.0943951]]\n",
      "\n",
      " [[-2.0943951  0.         2.0943951]\n",
      "  [-2.0943951  0.         2.0943951]\n",
      "  [-2.0943951  0.         2.0943951]\n",
      "  ...\n",
      "  [-2.0943951  0.         2.0943951]\n",
      "  [-2.0943951  0.         2.0943951]\n",
      "  [-2.0943951  0.         2.0943951]]]\n"
     ]
    }
   ],
   "source": [
    "print(energies)"
   ]
  },
  {
   "cell_type": "code",
   "execution_count": 3,
   "metadata": {},
   "outputs": [],
   "source": [
    "energies_sorted = np.zeros(energies.shape, dtype='float')\n",
    "blochvectors_sorted = np.zeros(blochvectors.shape, dtype='complex')\n",
    "for i in range(energies.shape[0]):\n",
    "    for j in range(energies.shape[1]):\n",
    "        if i == 0 and j == 0:\n",
    "            current_energies = energies[i,j]\n",
    "            ind = np.argsort(current_energies)\n",
    "            energies_sorted[i,j] = energies[i,j, ind]\n",
    "            blochvectors_sorted[i,j] = blochvectors[i,j,:,ind]\n",
    "            previous_energies = current_energies[ind]\n",
    "        else:\n",
    "            current_energies = energies[i,j]\n",
    "            ind = np.argsort(current_energies)\n",
    "            differences = np.zeros((3,), dtype='float')\n",
    "            for shift in range(3):\n",
    "                ind_roll = np.roll(ind,shift)\n",
    "                diff = (current_energies[ind_roll] - previous_energies) % (2*np.pi)\n",
    "                diff = (diff + 2*np.pi*np.floor((-np.pi-diff) \n",
    "                                                / (2*np.pi) + 1))\n",
    "                diff = np.abs(diff)\n",
    "                diff = np.sum(diff)\n",
    "                differences[shift] = diff\n",
    "            minimum = np.argmin(differences)\n",
    "            ind = np.roll(ind, minimum)\n",
    "            energies_sorted[i,j] = energies[i,j, ind]\n",
    "            blochvectors_sorted[i,j] = blochvectors[i,j,:,ind]\n",
    "            previous_energies = current_energies[ind]"
   ]
  },
  {
   "cell_type": "code",
   "execution_count": 4,
   "metadata": {},
   "outputs": [
    {
     "data": {
      "text/plain": [
       "array([[[-2.0943951,  0.       ,  2.0943951],\n",
       "        [-2.0943951,  0.       ,  2.0943951],\n",
       "        [-2.0943951,  0.       ,  2.0943951],\n",
       "        ...,\n",
       "        [-2.0943951,  0.       ,  2.0943951],\n",
       "        [-2.0943951,  0.       ,  2.0943951],\n",
       "        [-2.0943951,  0.       ,  2.0943951]],\n",
       "\n",
       "       [[-2.0943951,  0.       ,  2.0943951],\n",
       "        [-2.0943951,  0.       ,  2.0943951],\n",
       "        [-2.0943951,  0.       ,  2.0943951],\n",
       "        ...,\n",
       "        [-2.0943951,  0.       ,  2.0943951],\n",
       "        [-2.0943951,  0.       ,  2.0943951],\n",
       "        [-2.0943951,  0.       ,  2.0943951]],\n",
       "\n",
       "       [[-2.0943951,  0.       ,  2.0943951],\n",
       "        [-2.0943951,  0.       ,  2.0943951],\n",
       "        [-2.0943951,  0.       ,  2.0943951],\n",
       "        ...,\n",
       "        [-2.0943951,  0.       ,  2.0943951],\n",
       "        [-2.0943951,  0.       ,  2.0943951],\n",
       "        [-2.0943951,  0.       ,  2.0943951]],\n",
       "\n",
       "       ...,\n",
       "\n",
       "       [[-2.0943951,  0.       ,  2.0943951],\n",
       "        [-2.0943951,  0.       ,  2.0943951],\n",
       "        [-2.0943951,  0.       ,  2.0943951],\n",
       "        ...,\n",
       "        [-2.0943951,  0.       ,  2.0943951],\n",
       "        [-2.0943951,  0.       ,  2.0943951],\n",
       "        [-2.0943951,  0.       ,  2.0943951]],\n",
       "\n",
       "       [[-2.0943951,  0.       ,  2.0943951],\n",
       "        [-2.0943951,  0.       ,  2.0943951],\n",
       "        [-2.0943951,  0.       ,  2.0943951],\n",
       "        ...,\n",
       "        [-2.0943951,  0.       ,  2.0943951],\n",
       "        [-2.0943951,  0.       ,  2.0943951],\n",
       "        [-2.0943951,  0.       ,  2.0943951]],\n",
       "\n",
       "       [[-2.0943951,  0.       ,  2.0943951],\n",
       "        [-2.0943951,  0.       ,  2.0943951],\n",
       "        [-2.0943951,  0.       ,  2.0943951],\n",
       "        ...,\n",
       "        [-2.0943951,  0.       ,  2.0943951],\n",
       "        [-2.0943951,  0.       ,  2.0943951],\n",
       "        [-2.0943951,  0.       ,  2.0943951]]])"
      ]
     },
     "execution_count": 4,
     "metadata": {},
     "output_type": "execute_result"
    }
   ],
   "source": [
    "energies_sorted"
   ]
  },
  {
   "cell_type": "code",
   "execution_count": 5,
   "metadata": {},
   "outputs": [
    {
     "name": "stderr",
     "output_type": "stream",
     "text": [
      "c:\\Users\\laure\\OneDrive\\Bureaublad\\partIII\\TopologicalTightBinding\\tight_binding2\\bandstructure.py:173: UserWarning: Attempting to set identical low and high zlims makes transformation singular; automatically expanding.\n",
      "  ax.set_zlim(np.nanmin(E),np.nanmax(E))\n"
     ]
    },
    {
     "data": {
      "image/png": "[encoded data removed]",
      "text/plain": [
       "<Figure size 640x480 with 1 Axes>"
      ]
     },
     "metadata": {},
     "output_type": "display_data"
    }
   ],
   "source": [
    "plot_bandstructure2D(energies_sorted, a_1, a_2, 'test.png')"
   ]
  },
  {
   "cell_type": "code",
   "execution_count": null,
   "metadata": {},
   "outputs": [],
   "source": []
  }
 ],
 "metadata": {
  "kernelspec": {
   "display_name": "PartIIIProjectPy310",
   "language": "python",
   "name": "python3"
  },
  "language_info": {
   "codemirror_mode": {
    "name": "ipython",
    "version": 3
   },
   "file_extension": ".py",
   "mimetype": "text/x-python",
   "name": "python",
   "nbconvert_exporter": "python",
   "pygments_lexer": "ipython3",
   "version": "3.10.13"
  }
 },
 "nbformat": 4,
 "nbformat_minor": 2
}
