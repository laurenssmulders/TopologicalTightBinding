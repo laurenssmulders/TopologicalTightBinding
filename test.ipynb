{
 "cells": [
  {
   "cell_type": "code",
   "execution_count": 10,
   "metadata": {},
   "outputs": [],
   "source": [
    "import numpy as np\n",
    "from tight_binding.hamiltonians import create_bloch_hamiltonian_kagome\n",
    "from tight_binding.utilities import compute_reciprocal_lattice_vectors_2D\n",
    "import matplotlib.pyplot as plt\n",
    "from matplotlib import cm"
   ]
  },
  {
   "cell_type": "code",
   "execution_count": null,
   "metadata": {},
   "outputs": [],
   "source": [
    "def compute_wigner_seitz_location_2d(dx, a, b):\n",
    "    \"\"\"Gives a collection of points within the wigner seitz cell.\n",
    "    Breaks down for large difference in lattice vector lengths.\n",
    "\n",
    "    Parameters\n",
    "    ----------\n",
    "    dx: float\n",
    "        Spacing between points in the direction of the lattice vectors\n",
    "    a: np.ndarray\n",
    "        First lattice vector\n",
    "    b: np.ndarray\n",
    "        Second lattice vector\n",
    "    \"\"\"\n",
    "    # Generating lattice points near the origin\n",
    "    lattice_points = []\n",
    "    for n in range(-3,3):\n",
    "        for m in range(-3,3):\n",
    "            lattice_points.append(n*a + m*b)\n",
    "    \n",
    "    # Calculating the spacings of the coefficients of the vectors\n",
    "    da = dx / np.linalg.norm(a)\n",
    "    db = dx / np.linalg.norm(b)\n",
    "    region = []\n",
    "\n",
    "    for i in np.linspace(-3,3,int(6/da)):\n",
    "        for j in np.linspace(-3,3,int(6/db)):\n",
    "            region.append(i*a + j*b)\n",
    "    \n",
    "    wigner_seitz = []\n",
    "    for point in range(len(region)):\n",
    "        distances = []\n",
    "        for lattice_point in range(len(lattice_points)):\n",
    "            distances.append(np.linalg.norm(point - lattice_point))\n",
    "        if abs(min(distances) - np.linalg.norm(point)) < 1e-5:\n",
    "            wigner_seitz.append(point)\n",
    "\n",
    "    return wigner_seitz"
   ]
  },
  {
   "cell_type": "code",
   "execution_count": null,
   "metadata": {},
   "outputs": [],
   "source": []
  }
 ],
 "metadata": {
  "kernelspec": {
   "display_name": "PartIIIProjectPy310",
   "language": "python",
   "name": "python3"
  },
  "language_info": {
   "codemirror_mode": {
    "name": "ipython",
    "version": 3
   },
   "file_extension": ".py",
   "mimetype": "text/x-python",
   "name": "python",
   "nbconvert_exporter": "python",
   "pygments_lexer": "ipython3",
   "version": "3.10.13"
  }
 },
 "nbformat": 4,
 "nbformat_minor": 2
}
